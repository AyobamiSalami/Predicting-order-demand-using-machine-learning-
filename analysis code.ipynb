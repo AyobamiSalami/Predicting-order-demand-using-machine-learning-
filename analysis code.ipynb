{
 "cells": [
  {
   "cell_type": "code",
   "execution_count": null,
   "id": "attempted-target",
   "metadata": {},
   "outputs": [],
   "source": [
    "import numpy as np"
   ]
  },
  {
   "cell_type": "code",
   "execution_count": null,
   "id": "consecutive-federation",
   "metadata": {},
   "outputs": [],
   "source": [
    "import pandas as pd \n",
    "import seaborn as sns \n",
    "import matplotlib.pyplot as plt\n",
    "%matplotlib inline\n",
    "from sklearn.model_selection import train_test_split\n",
    "from sklearn.preprocessing import LabelEncoder\n",
    "from scipy.stats import norm, skew \n",
    "from scipy import stats \n",
    "from matplotlib import rcParams\n"
   ]
  },
  {
   "cell_type": "code",
   "execution_count": null,
   "id": "under-fever",
   "metadata": {},
   "outputs": [],
   "source": [
    "import statsmodels.api as sm"
   ]
  },
  {
   "cell_type": "code",
   "execution_count": null,
   "id": "according-compression",
   "metadata": {},
   "outputs": [],
   "source": [
    "from xgboost import XGBRegressor\n",
    "from sklearn.metrics import mean_absolute_error\n",
    "from sklearn.impute import SimpleImputer\n",
    "Imputer = SimpleImputer(missing_values=np.nan, strategy='mean')"
   ]
  },
  {
   "cell_type": "code",
   "execution_count": null,
   "id": "following-plasma",
   "metadata": {},
   "outputs": [],
   "source": [
    "df = pd.read_csv('/home/bami123/Historical Product Demand.csv')"
   ]
  },
  {
   "cell_type": "code",
   "execution_count": null,
   "id": "prerequisite-village",
   "metadata": {},
   "outputs": [],
   "source": [
    "df.head()"
   ]
  },
  {
   "cell_type": "code",
   "execution_count": null,
   "id": "subtle-edgar",
   "metadata": {},
   "outputs": [],
   "source": [
    "\n",
    "print(df.shape)\n",
    "print(df.dtypes)"
   ]
  },
  {
   "cell_type": "code",
   "execution_count": null,
   "id": "unsigned-roberts",
   "metadata": {},
   "outputs": [],
   "source": [
    "df.isnull().sum()\n",
    "# calculating % of data missing\n",
    "print(\"% of Data missing =\", df.isnull().sum().sum()/len(df)*100)\n"
   ]
  },
  {
   "cell_type": "code",
   "execution_count": null,
   "id": "harmful-boundary",
   "metadata": {},
   "outputs": [],
   "source": [
    "\n",
    "df.dropna(axis=0, inplace=True) \n",
    "\n",
    "#setting date as index columns\n",
    "df.reset_index(drop = True)\n",
    "df.isnull().sum()\n"
   ]
  },
  {
   "cell_type": "code",
   "execution_count": null,
   "id": "surprised-conditioning",
   "metadata": {},
   "outputs": [],
   "source": [
    "df.sort_values('Date')[10:20]"
   ]
  },
  {
   "cell_type": "code",
   "execution_count": null,
   "id": "immediate-command",
   "metadata": {},
   "outputs": [],
   "source": [
    "df['Order_Demand'] = df['Order_Demand'].str.replace('(',\"\")\n",
    "df['Order_Demand'] = df['Order_Demand'].str.replace(')',\"\")\n",
    "df.sort_values('Date')[10:20]"
   ]
  },
  {
   "cell_type": "code",
   "execution_count": null,
   "id": "adult-webster",
   "metadata": {},
   "outputs": [],
   "source": [
    "df['Order_Demand'] = df['Order_Demand'].astype('int64')"
   ]
  },
  {
   "cell_type": "code",
   "execution_count": null,
   "id": "governing-navigation",
   "metadata": {},
   "outputs": [],
   "source": [
    "sns.set(rc={'figure.figsize':(16,5)})\n",
    "sns.distplot(df['Order_Demand'], bins = 100);"
   ]
  },
  {
   "cell_type": "code",
   "execution_count": null,
   "id": "bizarre-authorization",
   "metadata": {},
   "outputs": [],
   "source": [
    "rcParams['figure.figsize'] = 50,14\n",
    "sns.barplot(x=pd.DatetimeIndex(df['Date']).year, y=df['Order_Demand'])"
   ]
  },
  {
   "cell_type": "code",
   "execution_count": null,
   "id": "widespread-setting",
   "metadata": {},
   "outputs": [],
   "source": [
    "import seaborn as sns\n",
    "rcParams['figure.figsize'] = 5,3\n",
    "sns.distplot(df['Order_Demand'], fit=norm)\n",
    "\n",
    "fig = plt.figure()\n",
    "res = stats.probplot(df['Order_Demand'], plot=plt)\n",
    "plt.show()"
   ]
  },
  {
   "cell_type": "code",
   "execution_count": null,
   "id": "imported-average",
   "metadata": {},
   "outputs": [],
   "source": [
    "sns.lineplot(x=df['Date'], y=df['Order_Demand'])\n"
   ]
  },
  {
   "cell_type": "code",
   "execution_count": null,
   "id": "focused-recording",
   "metadata": {},
   "outputs": [],
   "source": [
    "df.groupby('Warehouse')['Order_Demand'].sum().sort_values(ascending=False)"
   ]
  },
  {
   "cell_type": "code",
   "execution_count": null,
   "id": "elder-allocation",
   "metadata": {},
   "outputs": [],
   "source": [
    "df1 = pd.DataFrame(df.groupby('Product_Category')['Order_Demand'].sum().sort_values(ascending=False))\n",
    "df1[\"% Contribution\"] = df1['Order_Demand']/df1['Order_Demand'].sum()*100\n",
    "df1"
   ]
  },
  {
   "cell_type": "code",
   "execution_count": null,
   "id": "occupied-vienna",
   "metadata": {},
   "outputs": [],
   "source": [
    "df[\"Date\"] = pd.to_datetime(df[\"Date\"])\n",
    "df2 = pd.pivot_table(df,index=[\"Date\"],values=[\"Order_Demand\"],columns=[\"Product_Category\"],aggfunc=np.sum)\n",
    "df2.columns = df2.columns.droplevel(0)\n",
    "df2[\"Category_019\"].dropna()"
   ]
  },
  {
   "cell_type": "code",
   "execution_count": null,
   "id": "future-estimate",
   "metadata": {},
   "outputs": [],
   "source": [
    "y = df2.resample('M').sum() # Resampling the data on monthly basis \n",
    "y.index.freq = \"M\" # Setting datetime frequency to Month\n",
    "y.head(20)"
   ]
  },
  {
   "cell_type": "code",
   "execution_count": null,
   "id": "interested-diabetes",
   "metadata": {},
   "outputs": [],
   "source": [
    "df_019 = pd.DataFrame(y[\"Category_019\"].iloc[12:-1]) \n",
    "df_019.head()"
   ]
  },
  {
   "cell_type": "code",
   "execution_count": null,
   "id": "aggressive-latino",
   "metadata": {},
   "outputs": [],
   "source": [
    "predictors=['Product_Code','Warehouse','Product_Category','Date']\n",
    "X=df[predictors]\n",
    "y=df.Order_Demand\n",
    "train_X, val_X, train_y, val_y = train_test_split(X, y, random_state=1,test_size=0.1,train_size=0.5)\n",
    "one_hot_encoding_val_data=pd.get_dummies(val_X)\n",
    "one_hot_encoding_train_data=pd.get_dummies(train_X)\n",
    "del val_X\n",
    "del train_X\n",
    "final_train, final_val = one_hot_encoding_train_data.align(one_hot_encoding_val_data,join='left',axis=1)\n",
    "\n",
    "del one_hot_encoding_val_data\n",
    "del one_hot_encoding_train_data\n",
    "\n",
    "final_train = Imputer.fit_transform(final_train)\n",
    "final_val = Imputer.transform(final_val)\n",
    "#defining the model \n",
    "my_model = XGBRegressor()\n",
    "# Add silent=True to avoid printing out updates with each cycle\n",
    "my_model.fit(final_train, train_y, verbose=False)\n",
    "del final_train\n",
    "del train_y\n",
    "\n",
    "predictions = my_model.predict(final_val)\n",
    "del final_val\n",
    "print(\"Mean Absolute Error : \" + str(mean_absolute_error(predictions, val_y)))\n"
   ]
  },
  {
   "cell_type": "code",
   "execution_count": null,
   "id": "stable-romania",
   "metadata": {},
   "outputs": [],
   "source": []
  },
  {
   "cell_type": "code",
   "execution_count": null,
   "id": "integrated-latter",
   "metadata": {},
   "outputs": [],
   "source": []
  }
 ],
 "metadata": {
  "kernelspec": {
   "display_name": "Python 3",
   "language": "python",
   "name": "python3"
  },
  "language_info": {
   "codemirror_mode": {
    "name": "ipython",
    "version": 3
   },
   "file_extension": ".py",
   "mimetype": "text/x-python",
   "name": "python",
   "nbconvert_exporter": "python",
   "pygments_lexer": "ipython3",
   "version": "3.8.5"
  }
 },
 "nbformat": 4,
 "nbformat_minor": 5
}
