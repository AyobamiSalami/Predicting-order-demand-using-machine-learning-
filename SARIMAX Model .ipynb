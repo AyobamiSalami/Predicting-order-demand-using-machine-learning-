{
 "cells": [
  {
   "cell_type": "code",
   "execution_count": null,
   "metadata": {},
   "outputs": [],
   "source": [
    "import numpy as np \n",
    "import pandas as pd \n",
    "from sklearn.model_selection import train_test_split\n",
    "from sklearn.impute import SimpleImputer\n",
    "from sklearn.preprocessing import LabelEncoder\n",
    "from scipy.stats import norm, skew \n",
    "from scipy import stats \n",
    "import statsmodels.api as sm\n",
    "from matplotlib import rcParams\n",
    "import matplotlib.pyplot as plt"
   ]
  },
  {
   "cell_type": "code",
   "execution_count": null,
   "metadata": {},
   "outputs": [],
   "source": [
    "data=pd.read_csv('/home/bami123/Historical Product Demand.csv')\n",
    "prod=pd.unique(data['Product_Code']).tolist()\n",
    "cate=pd.unique(data['Product_Category']).tolist()\n",
    "ware=pd.unique(data['Warehouse']).tolist()"
   ]
  },
  {
   "cell_type": "code",
   "execution_count": null,
   "metadata": {},
   "outputs": [],
   "source": [
    "data.isnull().sum()"
   ]
  },
  {
   "cell_type": "code",
   "execution_count": null,
   "metadata": {},
   "outputs": [],
   "source": [
    "data['Order_Demand'] = data['Order_Demand'].str.replace('(',\"\")\n",
    "data['Order_Demand'] = data['Order_Demand'].str.replace(')',\"\")\n",
    "data['Order_Demand'] = data['Order_Demand'].astype('int64')"
   ]
  },
  {
   "cell_type": "code",
   "execution_count": null,
   "metadata": {},
   "outputs": [],
   "source": [
    "print(len(prod),len(cate),len(ware))\n",
    "data.head()"
   ]
  },
  {
   "cell_type": "code",
   "execution_count": null,
   "metadata": {},
   "outputs": [],
   "source": [
    "food=['Dairy_products','baked_products','sugar_baked','eggs','meat','poultry','fish','flour','seafood','legumes ','cooked_food','cooked_vegetables','cooked_meat','leftovers','other_fruits','other_vegetable','Citrus','Stone_fruit','Tropical','peas','berries','melons','green_vegetables','Cruciferous','acidic_fruits','Marrow','root','allium','Soy Products','fresh_drinks','processed_food','desserts','bevarages']\n",
    "food.sort()\n",
    "for i in range(data.shape[1]):\n",
    "    data=data.replace(to_replace=cate[i],value=food[i])"
   ]
  },
  {
   "cell_type": "code",
   "execution_count": null,
   "metadata": {},
   "outputs": [],
   "source": [
    "order=[]\n",
    "for i in range(data.shape[0]):\n",
    "    if data.iloc[i,0]=='Product_0979' and data.iloc[i,1]=='Whse_J' and data.iloc[i,2]=='Citrus':\n",
    "        order.append([data.iloc[i,3],data.iloc[i,4]])\n",
    "df=pd.DataFrame(data=order,columns=['Date','Order_Demand'])\n",
    "df['Date']=pd.DatetimeIndex(df['Date'])\n",
    "final=df.pivot_table(index='Date',aggfunc=sum)"
   ]
  },
  {
   "cell_type": "code",
   "execution_count": null,
   "metadata": {},
   "outputs": [],
   "source": [
    "import seaborn as sns "
   ]
  },
  {
   "cell_type": "code",
   "execution_count": null,
   "metadata": {},
   "outputs": [],
   "source": [
    "rcParams['figure.figsize'] = 50,14\n",
    "sns.barplot(x=pd.DatetimeIndex(df['Date']).year, y=df['Order_Demand'])"
   ]
  },
  {
   "cell_type": "code",
   "execution_count": null,
   "metadata": {},
   "outputs": [],
   "source": []
  },
  {
   "cell_type": "code",
   "execution_count": null,
   "metadata": {},
   "outputs": [],
   "source": [
    "import seaborn as sns\n",
    "rcParams['figure.figsize'] = 5,3\n",
    "sns.distplot(df['Order_Demand'], fit=norm)\n",
    "\n",
    "fig = plt.figure()\n",
    "res = stats.probplot(df['Order_Demand'], plot=plt)\n",
    "plt.show()"
   ]
  },
  {
   "cell_type": "code",
   "execution_count": null,
   "metadata": {},
   "outputs": [],
   "source": [
    "sns.lineplot(x=df['Date'], y=df['Order_Demand'])"
   ]
  },
  {
   "cell_type": "code",
   "execution_count": null,
   "metadata": {},
   "outputs": [],
   "source": [
    "y =final.resample('M').sum()\n",
    "y.index.freq = \"M\"\n",
    "final= pd.DataFrame(y[\"Order_Demand\"]) \n",
    "final.head()"
   ]
  },
  {
   "cell_type": "code",
   "execution_count": null,
   "metadata": {},
   "outputs": [],
   "source": [
    "pip install pmdarima"
   ]
  },
  {
   "cell_type": "code",
   "execution_count": null,
   "metadata": {},
   "outputs": [],
   "source": [
    "from pmdarima import auto_arima\n",
    "model= auto_arima(final['Order_Demand'], start_p=1, start_q=1,\n",
    "                          max_p=5, max_q=5, m=12,\n",
    "                          start_P=0, seasonal=True,\n",
    "                          d=None, D=1, trace=True,\n",
    "                          error_action='ignore',   \n",
    "                          suppress_warnings=True,  \n",
    "                          stepwise=True)           \n",
    "\n",
    "model.summary()"
   ]
  },
  {
   "cell_type": "code",
   "execution_count": null,
   "metadata": {},
   "outputs": [],
   "source": [
    "dtrain=final['Order_Demand'].iloc[:45]\n",
    "dtest=final['Order_Demand'].iloc[45:]"
   ]
  },
  {
   "cell_type": "code",
   "execution_count": null,
   "metadata": {},
   "outputs": [],
   "source": [
    "from statsmodels.tsa.statespace.sarimax import SARIMAX\n",
    "mod= SARIMAX(dtrain,order=(2,0,2),seasonal_order=(2,1,0,12))\n",
    "result=mod.fit()\n",
    "result.summary()"
   ]
  },
  {
   "cell_type": "code",
   "execution_count": null,
   "metadata": {},
   "outputs": [],
   "source": [
    "predictions = result.predict(start=len(dtrain), end=len(dtrain)+len(dtest)-1, dynamic=False, typ='levels').rename('predicted')"
   ]
  },
  {
   "cell_type": "code",
   "execution_count": null,
   "metadata": {},
   "outputs": [],
   "source": [
    "print(\"predicted values are : \" + str(predictions))"
   ]
  },
  {
   "cell_type": "code",
   "execution_count": null,
   "metadata": {},
   "outputs": [],
   "source": [
    "ax=dtest.plot(legend=True,figsize=(12,6))\n",
    "predictions.plot(legend=True)"
   ]
  },
  {
   "cell_type": "code",
   "execution_count": null,
   "metadata": {},
   "outputs": [],
   "source": [
    "from sklearn.metrics import mean_squared_error\n",
    "from sklearn.metrics import mean_absolute_error\n",
    "\n",
    "print(\"Mean Absolute Error : \" + str(mean_absolute_error(dtest, predictions)))\n",
    "print(\"Mean Squared Error  : \" + str(mean_squared_error(dtest,predictions)))\n",
    "error = np.sqrt(mean_squared_error(dtest, predictions))\n",
    "print(f'SARIMA(2,0,2)(2,1,0,12) RMSE Error: {error:11.10}')\n",
    "print('Std of Test data:                  ', final['Order_Demand'].std())"
   ]
  },
  {
   "cell_type": "code",
   "execution_count": null,
   "metadata": {},
   "outputs": [],
   "source": [
    "model = SARIMAX(final['Order_Demand'],order=(2,0,2),seasonal_order=(2,1,0,12))\n",
    "results = model.fit()\n",
    "fcast = results.predict(len(final['Order_Demand']),len(final['Order_Demand'])+3,typ='levels').rename('next_3_months_predicted')"
   ]
  },
  {
   "cell_type": "code",
   "execution_count": null,
   "metadata": {},
   "outputs": [],
   "source": [
    "ax =final['Order_Demand'].plot(legend=True,figsize=(12,6))\n",
    "fcast.plot(legend=True)\n",
    "ax.autoscale(axis='x',tight=True)"
   ]
  },
  {
   "cell_type": "code",
   "execution_count": null,
   "metadata": {},
   "outputs": [],
   "source": [
    "'''temperature=[7, 2, 6, 2, 6, 7, 3, 1, 6, 6, 4, 3, 7, 6, 4, 4, 5, 7, 3, 7, 5, 7,5, 2, 5, 4, 1, 3, 3, 3, 4, 2, 3]\n",
    "temp=pd.DataFrame(data=data['Product_Category'],columns='Temperature')\n",
    "for i in range(data.shape[1]):\n",
    "    temp=temp.replace(to_replace=food[i],value=temperature[i])\n",
    "data=data.join(temp)'''\n"
   ]
  },
  {
   "cell_type": "code",
   "execution_count": null,
   "metadata": {},
   "outputs": [],
   "source": [
    "df2 = pd.pivot_table(df,index=[\"Date\"],values=[\"Order_Demand\"],columns=[\"Product_Category\"],aggfunc=np.sum)\n",
    "df2.columns = df2.columns.droplevel(0)\n",
    "df2[\"Category_019\"].dropna()"
   ]
  }
 ],
 "metadata": {
  "kernelspec": {
   "display_name": "Python 3",
   "language": "python",
   "name": "python3"
  },
  "language_info": {
   "codemirror_mode": {
    "name": "ipython",
    "version": 3
   },
   "file_extension": ".py",
   "mimetype": "text/x-python",
   "name": "python",
   "nbconvert_exporter": "python",
   "pygments_lexer": "ipython3",
   "version": "3.8.5"
  }
 },
 "nbformat": 4,
 "nbformat_minor": 4
}
