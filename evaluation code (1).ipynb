{
 "cells": [
  {
   "cell_type": "code",
   "execution_count": 1,
   "id": "attached-memorabilia",
   "metadata": {},
   "outputs": [
    {
     "name": "stdout",
     "output_type": "stream",
     "text": [
      "Mean Absolute Error : 8056.869257621789\n"
     ]
    }
   ],
   "source": [
    "import numpy as np \n",
    "import pandas as pd \n",
    "from sklearn.model_selection import train_test_split\n",
    "from xgboost import XGBRegressor\n",
    "from sklearn.metrics import mean_absolute_error\n",
    "from sklearn.impute import SimpleImputer\n",
    "Imputer = SimpleImputer(missing_values=np.nan, strategy='mean')\n",
    "\n",
    "\n",
    "\n",
    "data=pd.read_csv('/home/bami123/Historical Product Demand.csv',nrows=100000)\n",
    "data.dropna(axis=0)\n",
    "predictors=['Product_Code','Warehouse','Product_Category','Date']\n",
    "X=data[predictors]\n",
    "y=data.Order_Demand\n",
    "train_X, val_X, train_y, val_y = train_test_split(X, y, random_state=1,test_size=0.1,train_size=0.5)\n",
    "one_hot_encoding_val_data=pd.get_dummies(val_X)\n",
    "one_hot_encoding_train_data=pd.get_dummies(train_X)\n",
    "del val_X\n",
    "del train_X\n",
    "final_train, final_val = one_hot_encoding_train_data.align(one_hot_encoding_val_data,join='left',axis=1)\n",
    "\n",
    "del one_hot_encoding_val_data\n",
    "del one_hot_encoding_train_data\n",
    "\n",
    "my_imputer = Imputer\n",
    "final_train = my_imputer.fit_transform(final_train)\n",
    "final_val = my_imputer.transform(final_val)\n",
    "\n",
    "#defining the model \n",
    "my_model = XGBRegressor()\n",
    "\n",
    "my_model.fit(final_train, train_y, verbose=False)\n",
    "del final_train\n",
    "del train_y\n",
    "\n",
    "predictions = my_model.predict(final_val)\n",
    "del final_val\n",
    "print(\"Mean Absolute Error : \" + str(mean_absolute_error(predictions, val_y)))"
   ]
  },
  {
   "cell_type": "code",
   "execution_count": null,
   "id": "through-timer",
   "metadata": {},
   "outputs": [],
   "source": []
  }
 ],
 "metadata": {
  "kernelspec": {
   "display_name": "Python 3",
   "language": "python",
   "name": "python3"
  },
  "language_info": {
   "codemirror_mode": {
    "name": "ipython",
    "version": 3
   },
   "file_extension": ".py",
   "mimetype": "text/x-python",
   "name": "python",
   "nbconvert_exporter": "python",
   "pygments_lexer": "ipython3",
   "version": "3.8.5"
  }
 },
 "nbformat": 4,
 "nbformat_minor": 5
}
